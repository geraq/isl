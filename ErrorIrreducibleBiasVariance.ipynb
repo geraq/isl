{
 "cells": [
  {
   "cell_type": "markdown",
   "metadata": {},
   "source": [
    "Sean:"
   ]
  },
  {
   "cell_type": "markdown",
   "metadata": {},
   "source": [
    "$Y = f(X) + \\epsilon$  \n",
    "$\\hat{Y} = \\hat{f}(X)$"
   ]
  },
  {
   "cell_type": "markdown",
   "metadata": {},
   "source": [
    "Con $E(\\epsilon) = 0$"
   ]
  },
  {
   "cell_type": "markdown",
   "metadata": {},
   "source": [
    "El *error cuadrático medio* se define como:"
   ]
  },
  {
   "cell_type": "markdown",
   "metadata": {},
   "source": [
    "$MSE = E[(Y - \\hat{Y})^2]$"
   ]
  },
  {
   "cell_type": "markdown",
   "metadata": {},
   "source": [
    "Expandiendo las definiciones:"
   ]
  },
  {
   "cell_type": "markdown",
   "metadata": {},
   "source": [
    "$E[\\big((f(X) + \\epsilon)- \\hat{f}(X) \\big)^2]$"
   ]
  },
  {
   "cell_type": "markdown",
   "metadata": {},
   "source": [
    "Re-agrupando:"
   ]
  },
  {
   "cell_type": "markdown",
   "metadata": {},
   "source": [
    "$E[{\\color{red}{\\big(}}f(X) - \\hat{f}(X){\\color{red}{\\big)}} + \\epsilon)^2]$"
   ]
  },
  {
   "cell_type": "markdown",
   "metadata": {},
   "source": [
    "Expandiendo el cuadrado $(({\\color{orange}a} + {\\color{red}b})^2 = {\\color{orange}a}^2 + 2{\\color{orange}a}{\\color{red}b} + {\\color{red}b}^2)$:"
   ]
  },
  {
   "cell_type": "markdown",
   "metadata": {},
   "source": [
    "$E[{\\color{orange}{(f(X) - \\hat{f}(X))^2}} + 2 \\cdot {\\color{orange}{(f(X) - \\hat{f}(X))}} \\cdot {\\color{red}\\epsilon} + {\\color{red}\\epsilon}^2]$"
   ]
  },
  {
   "cell_type": "markdown",
   "metadata": {},
   "source": [
    "Ya que ${\\color{red}{E}}[f(x) + g(x)] = {\\color{red}{E}}[f(x)] + {\\color{red}{E}}[g(x)]$:"
   ]
  },
  {
   "cell_type": "markdown",
   "metadata": {},
   "source": [
    "${\\color{red}{E}}[(f(X) - \\hat{f}(X))^2] + {\\color{red}{E}}[2 \\cdot (f(X) - \\hat{f}(X)) \\cdot \\epsilon] + {\\color{red}{E}}[\\epsilon^2]$"
   ]
  },
  {
   "cell_type": "markdown",
   "metadata": {},
   "source": [
    "$f(x)$ es fijo, no es una variable aleatoria, sino que es una función determinística."
   ]
  },
  {
   "cell_type": "markdown",
   "metadata": {},
   "source": [
    "### Ahora se pueden hacer dos cosas:"
   ]
  },
  {
   "cell_type": "markdown",
   "metadata": {},
   "source": [
    "### 1)"
   ]
  },
  {
   "cell_type": "markdown",
   "metadata": {},
   "source": [
    "Asumiendo $\\hat{f}(X)$ fijo (no es variable aleatoria), la esperanza depende solamente de $\\epsilon$:"
   ]
  },
  {
   "cell_type": "markdown",
   "metadata": {},
   "source": [
    "De esta forma, con $f(X)$ and $\\hat{f}(X)$ constantes respecto a $\\epsilon$, ya que $E[{\\color{orange}{cte}}] = {\\color{orange}{cte}}$ y $E[{\\color{magenta}{a}}X] = {\\color{magenta}{a}}E[X]$:"
   ]
  },
  {
   "cell_type": "markdown",
   "metadata": {},
   "source": [
    "$E[{\\color{orange}{(f(X) - \\hat{f}(X))^2}}] + E[{\\color{magenta}{2 \\cdot (f(X) - \\hat{f}(X))}} \\cdot \\epsilon] + E[\\epsilon^2]$ =   \n",
    "${\\color{orange}{(f(X) - \\hat{f}(X))^2}} + {\\color{magenta}{2 \\cdot (f(X) - \\hat{f}(X))}} \\cdot E[\\epsilon] + E[\\epsilon^2]$"
   ]
  },
  {
   "cell_type": "markdown",
   "metadata": {},
   "source": [
    "Como $E(\\epsilon) = 0$:"
   ]
  },
  {
   "cell_type": "markdown",
   "metadata": {},
   "source": [
    "${\\color{orange}{(f(X) - \\hat{f}(X))^2}} + {\\color{red}{E[\\epsilon^2]}}$"
   ]
  },
  {
   "cell_type": "markdown",
   "metadata": {},
   "source": [
    "Además se tiene que:"
   ]
  },
  {
   "cell_type": "markdown",
   "metadata": {},
   "source": [
    "$E[\\epsilon^2] = E[(\\epsilon - 0)^2] = E[(\\epsilon - E[\\epsilon])^2] = Var[\\epsilon]$"
   ]
  },
  {
   "cell_type": "markdown",
   "metadata": {},
   "source": [
    "Por lo tanto:"
   ]
  },
  {
   "cell_type": "markdown",
   "metadata": {},
   "source": [
    "${\\color{orange}{(f(X) - \\hat{f}(X))^2}} + {\\color{red}{Var[\\epsilon]}}$"
   ]
  },
  {
   "cell_type": "markdown",
   "metadata": {},
   "source": [
    "$\\color{orange}{(f(X) - \\hat{f}(X))^2}$ $\\text{es el}$ $\\color{orange}{\\text{error reducible}}$"
   ]
  },
  {
   "cell_type": "markdown",
   "metadata": {},
   "source": [
    "$\\color{red}{Var[\\epsilon]}$ $\\text{es el}$ $\\color{red}{\\text{error irreducible}}$"
   ]
  },
  {
   "cell_type": "markdown",
   "metadata": {},
   "source": [
    "*Ver página 19 de ISL.*"
   ]
  },
  {
   "cell_type": "markdown",
   "metadata": {},
   "source": [
    "### 2)"
   ]
  },
  {
   "cell_type": "markdown",
   "metadata": {},
   "source": [
    "A partir de $E[(f(X) - \\hat{f}(X))^2] + E[2 \\cdot (f(X) - \\hat{f}(X)) \\cdot \\epsilon] + E[\\epsilon^2]$,"
   ]
  },
  {
   "cell_type": "markdown",
   "metadata": {},
   "source": [
    "asumiendo que $(f(X) - \\hat{f}(X))$ y $\\epsilon$ son independientes"
   ]
  },
  {
   "cell_type": "markdown",
   "metadata": {},
   "source": [
    "ya que $E[{\\color{orange}{X}}{\\color{red}{Y}}] = E[{\\color{orange}{X}}]E[{\\color{red}{Y}}]$ si $\\color{orange}{X}$ e $\\color{red}{Y}$ son independientes, se tiene que:"
   ]
  },
  {
   "cell_type": "markdown",
   "metadata": {},
   "source": [
    "$E[(f(X) - \\hat{f}(X))^2] + E[{\\color{orange}{2 \\cdot (f(X) - \\hat{f}(X))}} \\cdot {\\color{red}{\\epsilon}}] + E[\\epsilon^2] = $  \n",
    "$E[(f(X) - \\hat{f}(X))^2] + E[{\\color{orange}{2 \\cdot (f(X) - \\hat{f}(X))}}] \\cdot E[{\\color{red}{\\epsilon}}] + E[\\epsilon^2]$"
   ]
  },
  {
   "cell_type": "markdown",
   "metadata": {},
   "source": [
    "Nuevamente, ya que $E[\\epsilon] = 0$:"
   ]
  },
  {
   "cell_type": "markdown",
   "metadata": {},
   "source": [
    "$E[(f(X) - \\hat{f}(X))^2] + E[\\epsilon^2]$"
   ]
  },
  {
   "cell_type": "markdown",
   "metadata": {},
   "source": [
    "Ya que ${\\color{red}{Var[X]}} = {\\color{blue}{E[X^2]}} - {\\color{orange}{E[X]^2}}$, y por lo tanto $ {\\color{blue}{E[X^2]}} = {\\color{red}{Var[X]}} + {\\color{orange}{E[X]^2}}$, se tiene que:"
   ]
  },
  {
   "cell_type": "markdown",
   "metadata": {},
   "source": [
    "${\\color{blue}{E[(f(X) - \\hat{f}(X))^2]}} + E[\\epsilon^2] = $  \n",
    "${\\color{red}{Var[f(X) - \\hat{f}(X)]}} + {\\color{orange}{E[f(X) - \\hat{f}(X)]^2}} + E[\\epsilon^2]$"
   ]
  },
  {
   "cell_type": "markdown",
   "metadata": {},
   "source": [
    "$Var[f(X) - \\hat{f}(X)] = Var[\\hat{f}(X)]$, ya que $f(X)$ no es una variable aleatoria y $Var(-X) = Var(X)$:"
   ]
  },
  {
   "cell_type": "markdown",
   "metadata": {},
   "source": [
    "${\\color{red}{Var[\\hat{f}(X)]}} + {\\color{orange}{E[f(X) - \\hat{f}(X)]^2}} + E[\\epsilon^2]$"
   ]
  },
  {
   "cell_type": "markdown",
   "metadata": {},
   "source": [
    "Como $E[\\epsilon^2] = Var[\\epsilon]$:"
   ]
  },
  {
   "cell_type": "markdown",
   "metadata": {},
   "source": [
    "${\\color{red}{Var[\\hat{f}(X)]}} + {\\color{orange}{E[f(X) - \\hat{f}(X)]^2}} + Var[\\epsilon]$"
   ]
  },
  {
   "cell_type": "markdown",
   "metadata": {},
   "source": [
    "${\\color{red}{Var[\\hat{f}(X)]}} + {\\color{orange}{Bias[\\hat{f}(X)]^2}} + Var[\\epsilon]$"
   ]
  },
  {
   "cell_type": "markdown",
   "metadata": {},
   "source": [
    "*Ver página 34 de ISL.*"
   ]
  }
 ],
 "metadata": {
  "kernelspec": {
   "display_name": "Python 3",
   "language": "python",
   "name": "python3"
  },
  "language_info": {
   "codemirror_mode": {
    "name": "ipython",
    "version": 3
   },
   "file_extension": ".py",
   "mimetype": "text/x-python",
   "name": "python",
   "nbconvert_exporter": "python",
   "pygments_lexer": "ipython3",
   "version": "3.6.1"
  }
 },
 "nbformat": 4,
 "nbformat_minor": 2
}
