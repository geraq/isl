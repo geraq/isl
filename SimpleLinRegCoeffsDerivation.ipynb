{
 "cells": [
  {
   "cell_type": "markdown",
   "metadata": {},
   "source": [
    "Sea:  \n",
    "$\\hat{Y} = \\beta_0 + \\beta_1X$"
   ]
  },
  {
   "cell_type": "markdown",
   "metadata": {},
   "source": [
    "El *residual sum of squares* se define como:  \n",
    "$RSS = \\sum_{i=1}^{n}{(Y_i - (\\beta_0 + \\beta_1X_i))^2}$"
   ]
  },
  {
   "cell_type": "markdown",
   "metadata": {},
   "source": [
    "Para obtener los estimadores $\\hat{\\beta_0}$ y $\\hat{\\beta_1}$ que minimicen el *RSS* hay que derivarlo respecto a $\\beta_0$ y $\\beta_1$ e igualar ambas ecuaciones a 0:"
   ]
  },
  {
   "cell_type": "markdown",
   "metadata": {},
   "source": [
    "$RSS = \\sum_{i=1}^{n}{(Y_i - (\\beta_0 + \\beta_1X_i))^2} = $   "
   ]
  },
  {
   "cell_type": "markdown",
   "metadata": {},
   "source": [
    "$\\sum_{i=1}^{n}{Y_i^2 - 2Y_i(\\beta_0 + \\beta_1X_i) + (\\beta_0 + \\beta_1X_i)^2} = $  "
   ]
  },
  {
   "cell_type": "markdown",
   "metadata": {},
   "source": [
    "$\\sum_{i=1}^{n}{Y_i^2 - 2Y_i\\beta_0 - 2Y_i\\beta_1X_i + \\beta_0^2 + 2\\beta_0\\beta_1X_i + (\\beta_1X_i)^2}$"
   ]
  },
  {
   "cell_type": "markdown",
   "metadata": {},
   "source": [
    "$(1) \\frac{\\partial{RSS}}{\\partial{\\beta_0}} = \\sum_{i=1}^{n}{-2Y_i + 2\\beta_0 + 2\\beta_1Xi} = 0$"
   ]
  },
  {
   "cell_type": "markdown",
   "metadata": {},
   "source": [
    "$(2) \\frac{\\partial{RSS}}{\\partial{\\beta_1}} = \\sum_{i=1}^{n}{-2Y_iX_i + 2\\beta_0X_i + 2\\beta_1X_i^2} = 0$"
   ]
  },
  {
   "cell_type": "markdown",
   "metadata": {},
   "source": [
    "Sacando el factor $-2$ de ambas ecuaciones:"
   ]
  },
  {
   "cell_type": "markdown",
   "metadata": {},
   "source": [
    "$(1) \\frac{\\partial{RSS}}{\\partial{\\beta_0}} = \\sum_{i=1}^{n}{Y_i - \\beta_0 - \\beta_1Xi} = 0$"
   ]
  },
  {
   "cell_type": "markdown",
   "metadata": {},
   "source": [
    "$(2) \\frac{\\partial{RSS}}{\\partial{\\beta_1}} = \\sum_{i=1}^{n}{Y_iX_i - \\beta_0X_i - \\beta_1X_i^2} = 0$"
   ]
  },
  {
   "cell_type": "markdown",
   "metadata": {},
   "source": [
    "Despejando $\\beta_0$ de $(1)$:"
   ]
  },
  {
   "cell_type": "markdown",
   "metadata": {},
   "source": [
    "$(1) \\sum_{i=1}^{n}{Y_i - \\beta_0 - \\beta_1Xi} = 0 $  "
   ]
  },
  {
   "cell_type": "markdown",
   "metadata": {},
   "source": [
    "$\\sum_{i=1}^{n}{Y_i} - \\sum_{i=1}^{n}{\\beta_0} - \\sum_{i=1}^{n}{\\beta_1Xi} = 0$  "
   ]
  },
  {
   "cell_type": "markdown",
   "metadata": {},
   "source": [
    "$\\sum_{i=1}^{n}{Y_i} - n\\beta_0 - \\sum_{i=1}^{n}{\\beta_1Xi} = 0$  "
   ]
  },
  {
   "cell_type": "markdown",
   "metadata": {},
   "source": [
    "$-n\\beta_0 = -\\sum_{i=1}^{n}{Y_i} + \\sum_{i=1}^{n}{\\beta_1Xi}$"
   ]
  },
  {
   "cell_type": "markdown",
   "metadata": {},
   "source": [
    "$\\beta_0 = \\frac{1}{n}\\sum_{i=1}^{n}{Y_i} - \\frac{1}{n}\\sum_{i=1}^{n}{\\beta_1Xi}$"
   ]
  },
  {
   "cell_type": "markdown",
   "metadata": {},
   "source": [
    "${\\color{red}{\\beta_0 = \\bar{Y} - \\beta_1\\bar{X}}}$"
   ]
  },
  {
   "cell_type": "markdown",
   "metadata": {},
   "source": [
    "Sustituyendo $\\beta_0$ en $(2)$:"
   ]
  },
  {
   "cell_type": "markdown",
   "metadata": {},
   "source": [
    "$\\sum_{i=1}^{n}{\\big(Y_iX_i - {\\color{red}{\\beta_0}}X_i - \\beta_1X_i^2\\big)} = 0$"
   ]
  },
  {
   "cell_type": "markdown",
   "metadata": {},
   "source": [
    "$\\sum_{i=1}^{n}{\\big(Y_iX_i - {\\color{red}{(\\bar{Y} - \\beta_1\\bar{X})}}X_i - \\beta_1X_i^2\\big)} = 0$"
   ]
  },
  {
   "cell_type": "markdown",
   "metadata": {},
   "source": [
    "$\\sum_{i=1}^{n}{\\big(Y_iX_i - \\bar{Y}X_i + \\beta_1\\bar{X}X_i - \\beta_1X_i^2\\big)} = 0$"
   ]
  },
  {
   "cell_type": "markdown",
   "metadata": {},
   "source": [
    "Distribuyendo la suma:"
   ]
  },
  {
   "cell_type": "markdown",
   "metadata": {},
   "source": [
    "$\\sum_{i=1}^{n}{Y_iX_i} - \\bar{Y}\\sum_{i=1}^{n}{X_i} + \\beta_1\\bar{X}\\sum_{i=1}^{n}{X_i} - \\beta_1\\sum_{i=1}^{n}{X_i^2} = 0$"
   ]
  },
  {
   "cell_type": "markdown",
   "metadata": {},
   "source": [
    "Despejando $\\beta_1$:"
   ]
  },
  {
   "cell_type": "markdown",
   "metadata": {},
   "source": [
    "$\\beta_1\\bar{X}\\sum_{i=1}^{n}{X_i} - \\beta_1\\sum_{i=1}^{n}{X_i^2} = -\\sum_{i=1}^{n}{Y_iX_i} + \\bar{Y}\\sum_{i=1}^{n}{X_i}$"
   ]
  },
  {
   "cell_type": "markdown",
   "metadata": {},
   "source": [
    "$\\beta_1(\\bar{X}\\sum_{i=1}^{n}{X_i} - \\sum_{i=1}^{n}{X_i^2}) = \\bar{Y}\\sum_{i=1}^{n}{X_i} -\\sum_{i=1}^{n}{Y_iX_i}$"
   ]
  },
  {
   "cell_type": "markdown",
   "metadata": {},
   "source": [
    "$\\beta_1 = \\frac{\\bar{Y}\\sum_{i=1}^{n}{X_i} -\\sum_{i=1}^{n}{Y_iX_i}}{\\bar{X}\\sum_{i=1}^{n}{X_i} - \\sum_{i=1}^{n}{X_i^2}}$"
   ]
  },
  {
   "cell_type": "markdown",
   "metadata": {},
   "source": [
    "Multiplicando numerador y denominador por $-1$:"
   ]
  },
  {
   "cell_type": "markdown",
   "metadata": {},
   "source": [
    "${\\color{red}{\\beta_1 = \\frac{\\sum_{i=1}^{n}{Y_iX_i} - \\bar{Y}\\sum_{i=1}^{n}{X_i}}{\\sum_{i=1}^{n}{X_i^2} - \\bar{X}\\sum_{i=1}^{n}{X_i}}}}$"
   ]
  },
  {
   "cell_type": "markdown",
   "metadata": {},
   "source": [
    "### a) Analizando el numerador:"
   ]
  },
  {
   "cell_type": "markdown",
   "metadata": {},
   "source": [
    "$\\sum_{i=1}^{n}{Y_iX_i} - \\bar{Y}\\sum_{i=1}^{n}{X_i} = $  "
   ]
  },
  {
   "cell_type": "markdown",
   "metadata": {},
   "source": [
    "Expandiendo $\\bar{Y}$:"
   ]
  },
  {
   "cell_type": "markdown",
   "metadata": {},
   "source": [
    "$\\sum_{i=1}^{n}{Y_iX_i} - \\frac{1}{n}\\sum_{i=1}^{n}{Y_i}\\sum_{i=1}^{n}{X_i} = $"
   ]
  },
  {
   "cell_type": "markdown",
   "metadata": {},
   "source": [
    "Ya que $cA = -cA + cA + cA$:"
   ]
  },
  {
   "cell_type": "markdown",
   "metadata": {},
   "source": [
    "$\\sum_{i=1}^{n}{Y_iX_i} + \\frac{1}{n}\\sum_{i=1}^{n}{Y_i}\\sum_{i=1}^{n}{X_i} - \\frac{1}{n}\\sum_{i=1}^{n}{Y_i}\\sum_{i=1}^{n}{X_i} - \\frac{1}{n}\\sum_{i=1}^{n}{Y_i}\\sum_{i=1}^{n}{X_i} = $"
   ]
  },
  {
   "cell_type": "markdown",
   "metadata": {},
   "source": [
    "Aplicando definición de $\\bar{X}$ y $\\bar{Y}$:"
   ]
  },
  {
   "cell_type": "markdown",
   "metadata": {},
   "source": [
    "$\\sum_{i=1}^{n}{Y_iX_i} + \\frac{1}{n}\\sum_{i=1}^{n}{Y_i}\\sum_{i=1}^{n}{X_i} - \\bar{X}\\sum_{i=1}^{n}{Y_i} - \\bar{Y}\\sum_{i=1}^{n}{X_i} = $"
   ]
  },
  {
   "cell_type": "markdown",
   "metadata": {},
   "source": [
    "Ya que $1/n = n/n^2$"
   ]
  },
  {
   "cell_type": "markdown",
   "metadata": {},
   "source": [
    "$\\sum_{i=1}^{n}{Y_iX_i} + \\frac{n}{n^2}\\sum_{i=1}^{n}{Y_i}\\sum_{i=1}^{n}{X_i} - \\bar{X}\\sum_{i=1}^{n}{Y_i} - \\bar{Y}\\sum_{i=1}^{n}{X_i} = $"
   ]
  },
  {
   "cell_type": "markdown",
   "metadata": {},
   "source": [
    "$\\sum_{i=1}^{n}{Y_iX_i} + n\\bar{X}\\bar{Y} - \\bar{X}\\sum_{i=1}^{n}{Y_i} - \\bar{Y}\\sum_{i=1}^{n}{X_i} = $"
   ]
  },
  {
   "cell_type": "markdown",
   "metadata": {},
   "source": [
    "Ya que $nc = \\sum_{i=1}^{n}{c}$ :"
   ]
  },
  {
   "cell_type": "markdown",
   "metadata": {},
   "source": [
    "$\\sum_{i=1}^{n}{Y_iX_i} + \\sum_{i=1}^{n}{\\bar{X}\\bar{Y}} - \\bar{X}\\sum_{i=1}^{n}{Y_i} - \\bar{Y}\\sum_{i=1}^{n}{X_i} = $"
   ]
  },
  {
   "cell_type": "markdown",
   "metadata": {},
   "source": [
    "Combinando las sumatorias:"
   ]
  },
  {
   "cell_type": "markdown",
   "metadata": {},
   "source": [
    "$\\sum_{i=1}^{n}{Y_iX_i + \\bar{X}\\bar{Y} - \\bar{X}Y_i - \\bar{Y}X_i}= $"
   ]
  },
  {
   "cell_type": "markdown",
   "metadata": {},
   "source": [
    "$\\color{orange}{\\sum_{i=1}^{n}{(X_i - \\bar{X})(Y_i - \\bar{Y})}}$"
   ]
  },
  {
   "cell_type": "markdown",
   "metadata": {},
   "source": [
    "### b) Analizando el denominador:"
   ]
  },
  {
   "cell_type": "markdown",
   "metadata": {},
   "source": [
    "$\\sum_{i=1}^{n}{X_i^2} - \\bar{X}\\sum_{i=1}^{n}{X_i}$"
   ]
  },
  {
   "cell_type": "markdown",
   "metadata": {},
   "source": [
    "Aplicando definición de $\\bar{X}$:"
   ]
  },
  {
   "cell_type": "markdown",
   "metadata": {},
   "source": [
    "$\\sum_{i=1}^{n}{X_i^2} - \\frac{1}{n}\\sum_{i=1}^{n}{X_i}\\sum_{i=1}^{n}{X_i}$"
   ]
  },
  {
   "cell_type": "markdown",
   "metadata": {},
   "source": [
    "$\\sum_{i=1}^{n}{X_i^2} - \\frac{1}{n}(\\sum_{i=1}^{n}{X_i})^2$"
   ]
  },
  {
   "cell_type": "markdown",
   "metadata": {},
   "source": [
    "$\\sum_{i=1}^{n}{X_i^2} - \\frac{n}{n^2}(\\sum_{i=1}^{n}{X_i})^2$"
   ]
  },
  {
   "cell_type": "markdown",
   "metadata": {},
   "source": [
    "$\\sum_{i=1}^{n}{X_i^2} - n(\\frac{\\sum_{i=1}^{n}{X_i}}{n})^2$"
   ]
  },
  {
   "cell_type": "markdown",
   "metadata": {},
   "source": [
    "$\\sum_{i=1}^{n}{X_i^2} - n\\bar{X}^2$"
   ]
  },
  {
   "cell_type": "markdown",
   "metadata": {},
   "source": [
    "Ya que $cA = -cA + 2cA$:"
   ]
  },
  {
   "cell_type": "markdown",
   "metadata": {},
   "source": [
    "$\\sum_{i=1}^{n}{X_i^2} + n\\bar{X}^2 - 2n\\bar{X}^2$"
   ]
  },
  {
   "cell_type": "markdown",
   "metadata": {},
   "source": [
    "Aplicando definición de $\\bar{X}$:"
   ]
  },
  {
   "cell_type": "markdown",
   "metadata": {},
   "source": [
    "$\\sum_{i=1}^{n}{X_i^2} + n\\bar{X}^2 - 2n\\bar{X}(\\frac{1}{n}\\sum_{i=1}^{n}{X_i})$"
   ]
  },
  {
   "cell_type": "markdown",
   "metadata": {},
   "source": [
    "$\\sum_{i=1}^{n}{X_i^2} + n\\bar{X}^2 - 2\\bar{X}\\sum_{i=1}^{n}{X_i}$"
   ]
  },
  {
   "cell_type": "markdown",
   "metadata": {},
   "source": [
    "Ya que $nc = \\sum_{i=1}^{n}{c}$ :"
   ]
  },
  {
   "cell_type": "markdown",
   "metadata": {},
   "source": [
    "$\\sum_{i=1}^{n}{X_i^2} + \\sum_{i=1}^{n}{\\bar{X}^2} - 2\\bar{X}\\sum_{i=1}^{n}{X_i}$"
   ]
  },
  {
   "cell_type": "markdown",
   "metadata": {},
   "source": [
    "$\\sum_{i=1}^{n}{X_i^2} + \\sum_{i=1}^{n}{\\bar{X}^2} - \\sum_{i=1}^{n}{2\\bar{X}X_i}$"
   ]
  },
  {
   "cell_type": "markdown",
   "metadata": {},
   "source": [
    "Combinando las sumatorias:"
   ]
  },
  {
   "cell_type": "markdown",
   "metadata": {},
   "source": [
    "$\\sum_{i=1}^{n}{X_i^2 + \\bar{X}^2 - 2\\bar{X}X_i}$"
   ]
  },
  {
   "cell_type": "markdown",
   "metadata": {},
   "source": [
    "$\\color{magenta}{\\sum_{i=1}^{n}{(X_i - \\bar{X})^2}}$"
   ]
  },
  {
   "cell_type": "markdown",
   "metadata": {},
   "source": [
    "Entonces, reemplazando a) y b):"
   ]
  },
  {
   "cell_type": "markdown",
   "metadata": {},
   "source": [
    "${\\color{red}{\\beta_1 = \\frac{\\sum_{i=1}^{n}{Y_iX_i} - \\bar{Y}\\sum_{i=1}^{n}{X_i}}{\\sum_{i=1}^{n}{X_i^2} - \\bar{X}\\sum_{i=1}^{n}{X_i}}}} = $"
   ]
  },
  {
   "cell_type": "markdown",
   "metadata": {},
   "source": [
    "$\\frac{{\\color{orange}{\\sum_{i=1}^{n}{(X_i - \\bar{X})(Y_i - \\bar{Y})}}}}{\\color{magenta}{\\sum_{i=1}^{n}{(X_i - \\bar{X})^2}}}$ = "
   ]
  },
  {
   "cell_type": "markdown",
   "metadata": {},
   "source": [
    "$\\frac{{\\color{orange}{Cov(X, Y)}}}{{\\color{magenta}{Var{(X)}}}}$"
   ]
  },
  {
   "cell_type": "markdown",
   "metadata": {},
   "source": [
    "También se cumple que:"
   ]
  },
  {
   "cell_type": "markdown",
   "metadata": {},
   "source": [
    "$\\frac{Cov(X, Y)}{Var{(X)}} = $"
   ]
  },
  {
   "cell_type": "markdown",
   "metadata": {},
   "source": [
    "$\\frac{Cov(X, Y)}{S_XS_X} = $"
   ]
  },
  {
   "cell_type": "markdown",
   "metadata": {},
   "source": [
    "$\\frac{Cov(X, Y)}{S_XS_X}\\frac{S_Y}{S_Y} = $"
   ]
  },
  {
   "cell_type": "markdown",
   "metadata": {},
   "source": [
    "$\\frac{Cov(X, Y)}{S_XS_Y}\\frac{S_Y}{S_X} = $"
   ]
  },
  {
   "cell_type": "markdown",
   "metadata": {},
   "source": [
    "$r_{XY}\\frac{S_Y}{S_X}$"
   ]
  },
  {
   "cell_type": "markdown",
   "metadata": {},
   "source": [
    "Donde $S_X$ es la desviación estándar de X, $S_Y$ es la desviación estándar de Y, y $r_{XY}$ es el coeficiente de correlación lineal entre X e Y"
   ]
  }
 ],
 "metadata": {
  "kernelspec": {
   "display_name": "Python 3",
   "language": "python",
   "name": "python3"
  },
  "language_info": {
   "codemirror_mode": {
    "name": "ipython",
    "version": 3
   },
   "file_extension": ".py",
   "mimetype": "text/x-python",
   "name": "python",
   "nbconvert_exporter": "python",
   "pygments_lexer": "ipython3",
   "version": "3.6.1"
  }
 },
 "nbformat": 4,
 "nbformat_minor": 2
}
