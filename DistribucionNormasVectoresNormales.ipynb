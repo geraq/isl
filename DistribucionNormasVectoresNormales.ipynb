{
 "cells": [
  {
   "cell_type": "markdown",
   "metadata": {},
   "source": [
    "Sea X un conjunto de vectores con distribución normal centrada en 0 y matriz de covarianza igual a la identidad.\n",
    "¿Cuál es la distribución de las normas de los vectores de la muestra?    "
   ]
  },
  {
   "cell_type": "markdown",
   "metadata": {},
   "source": [
    "Idea:\n",
    "Ya que todas las dimensiones están igualmente distribuidas, con media 0 y varianza 1, la distancia euclídea al centro (el vector 0) es equivalente a la desviación estándar escalada por $\\sqrt{p}$ (o $\\sqrt{p - 1}$).\n",
    "\n",
    "Entonces la media de las normas se convierte en la media de las desviaciones multiplicadas por $\\sqrt{p}$ (o $\\sqrt{p - 1}$). Como todas las desviaciones son 1, esto resulta simplemente en $\\sqrt{p}$ (o $\\sqrt{p - 1}$).\n"
   ]
  },
  {
   "cell_type": "markdown",
   "metadata": {},
   "source": [
    "VERIFICAR ESTO"
   ]
  },
  {
   "cell_type": "code",
   "execution_count": null,
   "metadata": {
    "collapsed": true
   },
   "outputs": [],
   "source": []
  },
  {
   "cell_type": "code",
   "execution_count": null,
   "metadata": {
    "collapsed": true
   },
   "outputs": [],
   "source": []
  },
  {
   "cell_type": "code",
   "execution_count": null,
   "metadata": {
    "collapsed": true
   },
   "outputs": [],
   "source": []
  },
  {
   "cell_type": "code",
   "execution_count": null,
   "metadata": {
    "collapsed": true
   },
   "outputs": [],
   "source": []
  },
  {
   "cell_type": "code",
   "execution_count": null,
   "metadata": {
    "collapsed": true
   },
   "outputs": [],
   "source": []
  }
 ],
 "metadata": {
  "kernelspec": {
   "display_name": "Python 3",
   "language": "python",
   "name": "python3"
  },
  "language_info": {
   "codemirror_mode": {
    "name": "ipython",
    "version": 3
   },
   "file_extension": ".py",
   "mimetype": "text/x-python",
   "name": "python",
   "nbconvert_exporter": "python",
   "pygments_lexer": "ipython3",
   "version": "3.6.1"
  }
 },
 "nbformat": 4,
 "nbformat_minor": 2
}
